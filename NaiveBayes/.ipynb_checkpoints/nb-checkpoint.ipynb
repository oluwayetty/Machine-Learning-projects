{
 "cells": [
  {
   "cell_type": "code",
   "execution_count": 3,
   "metadata": {},
   "outputs": [],
   "source": [
    "import csv\n",
    "import pandas as pd\n",
    "import math\n",
    "import random\n",
    "import re"
   ]
  },
  {
   "cell_type": "code",
   "execution_count": 9,
   "metadata": {},
   "outputs": [],
   "source": [
    "DATA_DIR = 'smsspamcollection/SMSSpamCollectionData'\n",
    "def get_data(DIR):\n",
    "    with open('smsspamcollection/SMSSpamCollectionData', 'r') as in_file:\n",
    "        reader = csv.reader(in_file,delimiter='\\t')\n",
    "        output = []\n",
    "        features = []\n",
    "        for each_line in reader:\n",
    "            output.append(each_line[0])\n",
    "            features.append(each_line[1])\n",
    "    print(\"output\")\n",
    "#     return output, features\n",
    "    \n",
    "\n",
    "# # util functions:\n",
    "# def clean_set(array_of_words):\n",
    "#     # remove any 'RT' at the beginning of the tweet_text\n",
    "#     array_of_words = re.sub(r'^RT\\s{1}', '', array_of_words)\n",
    "#     # convert www.* or https?://* to URL\n",
    "#     array_of_words = re.sub('((www\\.[^\\s]+)|(https?://[^\\s]+))',' ',array_of_words)\n",
    "#     # convert @username to AT_USER\n",
    "#     array_of_words = re.sub('@[^\\s]+',' ',array_of_words)\n",
    "#     # remove additional white spaces\n",
    "#     array_of_words = re.sub('[\\s]+', ' ', array_of_words)\n",
    "#     # remove every 'hash' from words\n",
    "#     array_of_words = re.sub(r'#([^\\s]+)', r'\\1', array_of_words)\n",
    "#     #r emove quotes\n",
    "#     array_of_words = array_of_words.strip('\\'\"')\n",
    "#     # remove punctuation\n",
    "#     array_of_words = re.sub(r'[\\.\\,\\-,\\!,\\?]', '', array_of_words)\n",
    "#     # remove preceeding and trailing whitespace\n",
    "#     array_of_words = array_of_words.strip()\n",
    "#     return array_of_words"
   ]
  },
  {
   "cell_type": "code",
   "execution_count": 157,
   "metadata": {},
   "outputs": [],
   "source": [
    "def loadCsv(filename):\n",
    "    lines = csv.reader(open(\"housing.csv\"))\n",
    "    dataset = list(lines)\n",
    "    for i in range(len(dataset)):\n",
    "        dataset[i] = [float(x) for x in dataset[i]]\n",
    "    return dataset"
   ]
  },
  {
   "cell_type": "code",
   "execution_count": 155,
   "metadata": {},
   "outputs": [],
   "source": [
    "#Random Split of datasets\n",
    "\n",
    "def splitDataset(dataset, splitRatio):\n",
    "    trainSize = int(len(dataset) * splitRatio)\n",
    "    print(trainSize)\n",
    "    trainSet = []\n",
    "    copy = list(dataset)\n",
    "    while len(trainSet) < trainSize:\n",
    "        index = random.randrange(len(copy))\n",
    "        trainSet.append(copy.pop(index))\n",
    "    return [trainSet, copy]"
   ]
  },
  {
   "cell_type": "code",
   "execution_count": null,
   "metadata": {},
   "outputs": [],
   "source": []
  },
  {
   "cell_type": "code",
   "execution_count": null,
   "metadata": {},
   "outputs": [],
   "source": []
  }
 ],
 "metadata": {
  "kernelspec": {
   "display_name": "Python 3",
   "language": "python",
   "name": "python3"
  },
  "language_info": {
   "codemirror_mode": {
    "name": "ipython",
    "version": 3
   },
   "file_extension": ".py",
   "mimetype": "text/x-python",
   "name": "python",
   "nbconvert_exporter": "python",
   "pygments_lexer": "ipython3",
   "version": "3.7.0"
  }
 },
 "nbformat": 4,
 "nbformat_minor": 2
}
